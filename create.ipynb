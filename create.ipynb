{
 "cells": [
  {
   "cell_type": "code",
   "execution_count": 4,
   "metadata": {},
   "outputs": [],
   "source": [
    "import pandas as pd\n",
    "import numpy as np\n",
    "from sklearn.feature_extraction.text import CountVectorizer\n",
    "from sklearn.metrics.pairwise import cosine_similarity"
   ]
  },
  {
   "cell_type": "code",
   "execution_count": 5,
   "metadata": {},
   "outputs": [],
   "source": [
    "data = pd.read_csv('data.csv')"
   ]
  },
  {
   "cell_type": "code",
   "execution_count": 6,
   "metadata": {},
   "outputs": [
    {
     "data": {
      "text/html": [
       "<div>\n",
       "<style scoped>\n",
       "    .dataframe tbody tr th:only-of-type {\n",
       "        vertical-align: middle;\n",
       "    }\n",
       "\n",
       "    .dataframe tbody tr th {\n",
       "        vertical-align: top;\n",
       "    }\n",
       "\n",
       "    .dataframe thead th {\n",
       "        text-align: right;\n",
       "    }\n",
       "</style>\n",
       "<table border=\"1\" class=\"dataframe\">\n",
       "  <thead>\n",
       "    <tr style=\"text-align: right;\">\n",
       "      <th></th>\n",
       "      <th>director_name</th>\n",
       "      <th>actor_1_name</th>\n",
       "      <th>actor_2_name</th>\n",
       "      <th>actor_3_name</th>\n",
       "      <th>genres</th>\n",
       "      <th>movie_title</th>\n",
       "    </tr>\n",
       "  </thead>\n",
       "  <tbody>\n",
       "    <tr>\n",
       "      <th>0</th>\n",
       "      <td>James Cameron</td>\n",
       "      <td>CCH Pounder</td>\n",
       "      <td>Joel David Moore</td>\n",
       "      <td>Wes Studi</td>\n",
       "      <td>Action Adventure Fantasy Sci-Fi</td>\n",
       "      <td>avatar</td>\n",
       "    </tr>\n",
       "    <tr>\n",
       "      <th>1</th>\n",
       "      <td>Gore Verbinski</td>\n",
       "      <td>Johnny Depp</td>\n",
       "      <td>Orlando Bloom</td>\n",
       "      <td>Jack Davenport</td>\n",
       "      <td>Action Adventure Fantasy</td>\n",
       "      <td>pirates of the caribbean: at world's end</td>\n",
       "    </tr>\n",
       "    <tr>\n",
       "      <th>2</th>\n",
       "      <td>Sam Mendes</td>\n",
       "      <td>Christoph Waltz</td>\n",
       "      <td>Rory Kinnear</td>\n",
       "      <td>Stephanie Sigman</td>\n",
       "      <td>Action Adventure Thriller</td>\n",
       "      <td>spectre</td>\n",
       "    </tr>\n",
       "    <tr>\n",
       "      <th>3</th>\n",
       "      <td>Christopher Nolan</td>\n",
       "      <td>Tom Hardy</td>\n",
       "      <td>Christian Bale</td>\n",
       "      <td>Joseph Gordon-Levitt</td>\n",
       "      <td>Action Thriller</td>\n",
       "      <td>the dark knight rises</td>\n",
       "    </tr>\n",
       "    <tr>\n",
       "      <th>4</th>\n",
       "      <td>Doug Walker</td>\n",
       "      <td>Doug Walker</td>\n",
       "      <td>Rob Walker</td>\n",
       "      <td>unknown</td>\n",
       "      <td>Documentary</td>\n",
       "      <td>star wars: episode vii - the force awakens    ...</td>\n",
       "    </tr>\n",
       "    <tr>\n",
       "      <th>5</th>\n",
       "      <td>Andrew Stanton</td>\n",
       "      <td>Daryl Sabara</td>\n",
       "      <td>Samantha Morton</td>\n",
       "      <td>Polly Walker</td>\n",
       "      <td>Action Adventure Sci-Fi</td>\n",
       "      <td>john carter</td>\n",
       "    </tr>\n",
       "    <tr>\n",
       "      <th>6</th>\n",
       "      <td>Sam Raimi</td>\n",
       "      <td>J.K. Simmons</td>\n",
       "      <td>James Franco</td>\n",
       "      <td>Kirsten Dunst</td>\n",
       "      <td>Action Adventure Romance</td>\n",
       "      <td>spider-man 3</td>\n",
       "    </tr>\n",
       "    <tr>\n",
       "      <th>7</th>\n",
       "      <td>Nathan Greno</td>\n",
       "      <td>Brad Garrett</td>\n",
       "      <td>Donna Murphy</td>\n",
       "      <td>M.C. Gainey</td>\n",
       "      <td>Adventure Animation Comedy Family Fantasy Musi...</td>\n",
       "      <td>tangled</td>\n",
       "    </tr>\n",
       "    <tr>\n",
       "      <th>8</th>\n",
       "      <td>Joss Whedon</td>\n",
       "      <td>Chris Hemsworth</td>\n",
       "      <td>Robert Downey Jr.</td>\n",
       "      <td>Scarlett Johansson</td>\n",
       "      <td>Action Adventure Sci-Fi</td>\n",
       "      <td>avengers: age of ultron</td>\n",
       "    </tr>\n",
       "    <tr>\n",
       "      <th>9</th>\n",
       "      <td>David Yates</td>\n",
       "      <td>Alan Rickman</td>\n",
       "      <td>Daniel Radcliffe</td>\n",
       "      <td>Rupert Grint</td>\n",
       "      <td>Adventure Family Fantasy Mystery</td>\n",
       "      <td>harry potter and the half-blood prince</td>\n",
       "    </tr>\n",
       "  </tbody>\n",
       "</table>\n",
       "</div>"
      ],
      "text/plain": [
       "       director_name     actor_1_name       actor_2_name  \\\n",
       "0      James Cameron      CCH Pounder   Joel David Moore   \n",
       "1     Gore Verbinski      Johnny Depp      Orlando Bloom   \n",
       "2         Sam Mendes  Christoph Waltz       Rory Kinnear   \n",
       "3  Christopher Nolan        Tom Hardy     Christian Bale   \n",
       "4        Doug Walker      Doug Walker         Rob Walker   \n",
       "5     Andrew Stanton     Daryl Sabara    Samantha Morton   \n",
       "6          Sam Raimi     J.K. Simmons       James Franco   \n",
       "7       Nathan Greno     Brad Garrett       Donna Murphy   \n",
       "8        Joss Whedon  Chris Hemsworth  Robert Downey Jr.   \n",
       "9        David Yates     Alan Rickman   Daniel Radcliffe   \n",
       "\n",
       "           actor_3_name                                             genres  \\\n",
       "0             Wes Studi                    Action Adventure Fantasy Sci-Fi   \n",
       "1        Jack Davenport                           Action Adventure Fantasy   \n",
       "2      Stephanie Sigman                          Action Adventure Thriller   \n",
       "3  Joseph Gordon-Levitt                                    Action Thriller   \n",
       "4               unknown                                        Documentary   \n",
       "5          Polly Walker                            Action Adventure Sci-Fi   \n",
       "6         Kirsten Dunst                           Action Adventure Romance   \n",
       "7           M.C. Gainey  Adventure Animation Comedy Family Fantasy Musi...   \n",
       "8    Scarlett Johansson                            Action Adventure Sci-Fi   \n",
       "9          Rupert Grint                   Adventure Family Fantasy Mystery   \n",
       "\n",
       "                                         movie_title  \n",
       "0                                             avatar  \n",
       "1           pirates of the caribbean: at world's end  \n",
       "2                                            spectre  \n",
       "3                              the dark knight rises  \n",
       "4  star wars: episode vii - the force awakens    ...  \n",
       "5                                        john carter  \n",
       "6                                       spider-man 3  \n",
       "7                                            tangled  \n",
       "8                            avengers: age of ultron  \n",
       "9             harry potter and the half-blood prince  "
      ]
     },
     "execution_count": 6,
     "metadata": {},
     "output_type": "execute_result"
    }
   ],
   "source": [
    "data.head(10)"
   ]
  },
  {
   "cell_type": "code",
   "execution_count": 7,
   "metadata": {},
   "outputs": [],
   "source": [
    "data['comb'] = data['actor_1_name'] + ' ' + data['actor_2_name'] + ' '+ data['actor_3_name'] + ' '+ data['director_name'] +' ' + data['genres']"
   ]
  },
  {
   "cell_type": "code",
   "execution_count": 8,
   "metadata": {},
   "outputs": [
    {
     "data": {
      "text/plain": [
       "0       CCH Pounder Joel David Moore Wes Studi James C...\n",
       "1       Johnny Depp Orlando Bloom Jack Davenport Gore ...\n",
       "2       Christoph Waltz Rory Kinnear Stephanie Sigman ...\n",
       "3       Tom Hardy Christian Bale Joseph Gordon-Levitt ...\n",
       "4       Doug Walker Rob Walker unknown Doug Walker Doc...\n",
       "                              ...                        \n",
       "5038    Eric Mabius Daphne Zuniga Crystal Lowe Scott S...\n",
       "5039    Natalie Zea Valorie Curry Sam Underwood unknow...\n",
       "5040    Eva Boehnke Maxwell Moody David Chandler Benja...\n",
       "5041    Alan Ruck Daniel Henney Eliza Coupe Daniel Hsi...\n",
       "5042    John August Brian Herzlinger Jon Gunn Jon Gunn...\n",
       "Name: comb, Length: 5043, dtype: object"
      ]
     },
     "execution_count": 8,
     "metadata": {},
     "output_type": "execute_result"
    }
   ],
   "source": [
    "data['comb']"
   ]
  },
  {
   "cell_type": "code",
   "execution_count": 9,
   "metadata": {},
   "outputs": [],
   "source": [
    "cv = CountVectorizer()\n",
    "count_matrix = cv.fit_transform(data['comb'])"
   ]
  },
  {
   "cell_type": "code",
   "execution_count": 10,
   "metadata": {},
   "outputs": [],
   "source": [
    "sim = cosine_similarity(count_matrix)"
   ]
  },
  {
   "cell_type": "code",
   "execution_count": 11,
   "metadata": {},
   "outputs": [],
   "source": [
    "np.save('similarity_matrix', sim)"
   ]
  },
  {
   "cell_type": "code",
   "execution_count": 12,
   "metadata": {},
   "outputs": [],
   "source": [
    "data.to_csv('data.csv',index=False)"
   ]
  }
 ],
 "metadata": {
  "kernelspec": {
   "display_name": "Python 3",
   "language": "python",
   "name": "python3"
  },
  "language_info": {
   "codemirror_mode": {
    "name": "ipython",
    "version": 3
   },
   "file_extension": ".py",
   "mimetype": "text/x-python",
   "name": "python",
   "nbconvert_exporter": "python",
   "pygments_lexer": "ipython3",
   "version": "3.7.3"
  }
 },
 "nbformat": 4,
 "nbformat_minor": 2
}
